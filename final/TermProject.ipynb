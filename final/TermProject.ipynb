{
 "cells": [
  {
   "cell_type": "markdown",
   "metadata": {},
   "source": [
    "The goal of this code is to take data from the United States Census Bureau and United States Department of Transportation to see how total highway miles, Amtrak energy usage, and airline departures to the top 50 foreign countries compare to the growth of the United States population."
   ]
  },
  {
   "cell_type": "markdown",
   "metadata": {},
   "source": [
    "Import Packages and Define Functions"
   ]
  },
  {
   "cell_type": "code",
   "execution_count": 1,
   "metadata": {},
   "outputs": [],
   "source": [
    "import pandas as pd\n",
    "import matplotlib.pyplot as plt\n",
    "import numpy as np"
   ]
  },
  {
   "cell_type": "code",
   "execution_count": 2,
   "metadata": {},
   "outputs": [],
   "source": [
    "def PopDataType(DataFrame):\n",
    "    \"\"\"PopDataType(DataFrame)--->DataFrame\n",
    "    \n",
    "    Ensures that a DataFrame with four columns ('Year','Month','Day','Population') has the types (str,str,str,int)\n",
    "    Returns the DataFrame with these types\"\"\"\n",
    "    DataFrame=DataFrame.astype({'Year':str,'Month':str,'Day':str,'Population':int})\n",
    "    return DataFrame"
   ]
  },
  {
   "cell_type": "code",
   "execution_count": 3,
   "metadata": {},
   "outputs": [],
   "source": [
    "def DateSplit(DataFrame):\n",
    "    \"\"\"DateSplit(DataFrame)-->DataFrame\n",
    "    \n",
    "    This function splits a column of a Pandas DataFrame that is named 'Date' and has the format 'DD-MM-YY' into three\n",
    "    seperate columns titled 'Day', 'Month', and 'Year'\n",
    "    \n",
    "    \n",
    "    \"\"\"\n",
    "    Date=DataFrame['Date'].str.split('-',expand=True)\n",
    "    Date=Date.rename({0:'Day',1:'Month',2:'Year'},\n",
    "                   axis='columns')\n",
    "    DataFrame['Day']=Date['Day']\n",
    "    DataFrame['Month']=Date['Month']\n",
    "    DataFrame['Year']=Date['Year']\n",
    "    return DataFrame"
   ]
  },
  {
   "cell_type": "code",
   "execution_count": 4,
   "metadata": {},
   "outputs": [],
   "source": [
    "def ReformatMonthYear(DataFrame,FirstTwoYearDigits):\n",
    "    \"\"\"ReformatMonthYear(DataFrame,str)--->DataFrame\n",
    "    \n",
    "    This function replaces 'Jul' with 'July' in the 'Month' column of DataFrame, and it adds two digits to the beginning of\n",
    "    the year to create a year with four digits in the 'Year' column of DataFrame\n",
    "    \n",
    "    Returns DataFrame with reformatted Month and Year\n",
    "    \"\"\"\n",
    "    DataFrame['Month']=DataFrame['Month'].replace(to_replace='Jul',\n",
    "                                                 value='July')\n",
    "    DataFrame['Year']=FirstTwoYearDigits+DataFrame['Year']\n",
    "    return DataFrame"
   ]
  },
  {
   "cell_type": "code",
   "execution_count": 5,
   "metadata": {},
   "outputs": [],
   "source": [
    "def FilterandMelt(DataFrame,RowToMelt,FirstColumn):\n",
    "    \"\"\"FilterandMelt(DataFrame,str,str)--->DataFrame\n",
    "    This function takes a DataFrame and returns another DataFrame that has a column for year \n",
    "    and the ColumnToMelt specified.\n",
    "    Make sure that FirstColumn doesn't equal 'Year'; if it does, no 'Year' column will appear in the final DataFrame\n",
    "    \"\"\"\n",
    "    Filter=DataFrame[FirstColumn]==RowToMelt\n",
    "    NewDataFrame=DataFrame[Filter]\n",
    "    ColumnNameList=list(NewDataFrame)\n",
    "    del ColumnNameList[0]\n",
    "    NewDataFrame=NewDataFrame.melt(id_vars=[FirstColumn],\n",
    "                                  value_vars=ColumnNameList,\n",
    "                                  var_name='Year',\n",
    "                                  value_name=RowToMelt)\n",
    "    \n",
    "    \n",
    "    NewDataFrame.drop(labels=NewDataFrame.columns[0],\n",
    "                      axis=1,\n",
    "                     inplace=True)\n",
    "    \n",
    "    return NewDataFrame"
   ]
  },
  {
   "cell_type": "markdown",
   "metadata": {},
   "source": [
    "Read In Data"
   ]
  },
  {
   "cell_type": "code",
   "execution_count": 6,
   "metadata": {},
   "outputs": [],
   "source": [
    "VehicleMilesData=pd.read_csv('USVehicleMiles.csv')\n",
    "VehicleMilesData=VehicleMilesData.rename({'Year':'Mode'},\n",
    "                                        axis='columns')\n",
    "#read in vehicle miles data and rename first column"
   ]
  },
  {
   "cell_type": "code",
   "execution_count": 7,
   "metadata": {},
   "outputs": [],
   "source": [
    "AmtrakFuelConsumption=pd.read_csv('AmtrakFuelConsumption.csv')\n",
    "#read in amtrak fuel consumption data"
   ]
  },
  {
   "cell_type": "code",
   "execution_count": 8,
   "metadata": {},
   "outputs": [],
   "source": [
    "ForeignDeparturesData=pd.read_excel('https://www.bts.gov/sites/bts.dot.gov/files/table_01_46_072920.xlsx', \n",
    "                                   header=1,\n",
    "                                   nrows=10)\n",
    "#read in air passenger departures to selected foreign countries data"
   ]
  },
  {
   "cell_type": "code",
   "execution_count": 9,
   "metadata": {},
   "outputs": [],
   "source": [
    "PopData1=pd.read_csv('PopData1.csv',\n",
    "                    usecols=[0,1,2,3])\n",
    "#read in population data for 2010-2020\n",
    "JulyFilter= PopData1['Month']=='July'\n",
    "PopData1Final=PopData1[JulyFilter]\n",
    "#filter for 1 value for july 1 each year\n",
    "PopData1Final=PopData1Final.rename({'Resident Population':'Population'},\n",
    "                    axis='columns')\n",
    "PopData1Final=PopDataType(PopData1Final) #assigns correct data types"
   ]
  },
  {
   "cell_type": "code",
   "execution_count": 10,
   "metadata": {},
   "outputs": [],
   "source": [
    "PopData2=pd.read_csv('PopData2.csv',\n",
    "                     header=6,\n",
    "                     nrows=100,\n",
    "                    usecols=[0,1])\n",
    "#read in population data for 1900-1999\n",
    "PopData2=DateSplit(PopData2)\n",
    "PopData2=ReformatMonthYear(PopData2,'19')\n",
    "#splits date and reformats 'Month' and 'Year' columns\n",
    "PopData2=PopData2.rename({'National Population':'Population'},\n",
    "               axis='columns')\n",
    "PopData2Final=PopData2.reindex(columns=['Year','Month','Day','Population']) #reorders columns\n",
    "PopData2Final['Population']=PopData2Final['Population'].str.replace(',','') #gets rid of commas\n",
    "PopData2Final=PopDataType(PopData2Final) #assigns correct data types"
   ]
  },
  {
   "cell_type": "code",
   "execution_count": 11,
   "metadata": {},
   "outputs": [],
   "source": [
    "PopData3=pd.read_csv('PopData3.csv',\n",
    "                     usecols=[0,1,2,3,4,5,6,7,8,9,10])\n",
    "#read in population data for 2000-2009\n",
    "PopData3=PopData3.melt(id_vars='Sex',\n",
    "             value_vars=['1-Jul-00','1-Jul-01','1-Jul-02','1-Jul-03','1-Jul-04','1-Jul-05','1-Jul-06','1-Jul-07',\n",
    "                         '1-Jul-08','1-Jul-09'],\n",
    "             var_name='Date',\n",
    "             value_name='Population')\n",
    "SexFilter=PopData3['Sex']=='BOTH'\n",
    "PopData3=PopData3[SexFilter] #filters for population to include both sexes\n",
    "PopData3=DateSplit(PopData3)\n",
    "PopData3Final=PopData3.reindex(columns=['Year','Month','Day','Population']) #reorders columns\n",
    "PopData3Final=ReformatMonthYear(PopData3Final,'20') \n",
    "PopData3Final=PopDataType(PopData3Final) #assigns correct data types"
   ]
  },
  {
   "cell_type": "markdown",
   "metadata": {},
   "source": [
    "Reformat Other Datasets"
   ]
  },
  {
   "cell_type": "code",
   "execution_count": 12,
   "metadata": {},
   "outputs": [],
   "source": [
    "TotalHighwayMiles=FilterandMelt(VehicleMilesData,'Highway, total','Mode')\n",
    "TotalHighwayMiles=TotalHighwayMiles.rename({'Highway, total':'Total Highway Miles Traveled (in millions)'},\n",
    "                                          axis='columns')\n",
    "TotalHighwayMiles['Total Highway Miles Traveled (in millions)']=TotalHighwayMiles['Total Highway Miles Traveled (in millions)'].str.replace(',','') #removes commas\n",
    "TotalHighwayMiles=TotalHighwayMiles.astype({'Year':str,'Total Highway Miles Traveled (in millions)':int}) #assigns correct data types"
   ]
  },
  {
   "cell_type": "code",
   "execution_count": 13,
   "metadata": {},
   "outputs": [],
   "source": [
    "AmtrakEnergyConsumption=FilterandMelt(AmtrakFuelConsumption,'Electric energy consumption (millions of kWhs)','Unnamed: 0')\n",
    "AmtrakEnergyConsumption=AmtrakEnergyConsumption.astype({'Year':str,'Electric energy consumption (millions of kWhs)':int}) #assigns correct data types\n",
    "AmtrakDieselConsumption=FilterandMelt(AmtrakFuelConsumption,'Diesel consumption (millions of gallons)','Unnamed: 0')\n",
    "AmtrakDieselConsumption=AmtrakDieselConsumption.astype({'Year':str,'Diesel consumption (millions of gallons)':int}) #assigns correct data types"
   ]
  },
  {
   "cell_type": "code",
   "execution_count": 14,
   "metadata": {},
   "outputs": [],
   "source": [
    "ForeignAirlineDepartures=FilterandMelt(ForeignDeparturesData,'TOTAL departing passengers','Unnamed: 0')\n",
    "ForeignAirlineDepartures=ForeignAirlineDepartures.rename({'TOTAL departing passengers':'Total Airline Departures to Foreign Countries'},\n",
    "                                                  axis='columns')\n",
    "ForeignAirlineDepartures=ForeignAirlineDepartures.astype({'Year':str,'Total Airline Departures to Foreign Countries':float}) #assigns correct data types"
   ]
  },
  {
   "cell_type": "markdown",
   "metadata": {},
   "source": [
    "Combine Complete Data and Reorder"
   ]
  },
  {
   "cell_type": "code",
   "execution_count": 15,
   "metadata": {},
   "outputs": [],
   "source": [
    "def FinalMerge(DataFrameToAdd,FinalData):\n",
    "    \"\"\"FinalMerge(DataFrame,DataFrame)-->DataFrame\n",
    "    This function takes the DataFrameToAdd input and performs an Excel-type VLOOKUP to match values to a year in the\n",
    "    FinalData DataFrame\n",
    "    \"\"\"\n",
    "    FinalData=FinalData.merge(right=DataFrameToAdd,\n",
    "                              on='Year',\n",
    "                              how='left')\n",
    "    return FinalData"
   ]
  },
  {
   "cell_type": "code",
   "execution_count": 16,
   "metadata": {},
   "outputs": [],
   "source": [
    "PopulationData=PopData1Final\n",
    "PopulationData=PopulationData.append(PopData2Final)\n",
    "PopulationData=PopulationData.append(PopData3Final)\n",
    "PopulationData=PopulationData.sort_values(by='Year',\n",
    "                          axis=0)\n",
    "FinalData=PopulationData\n",
    "FinalData=FinalMerge(TotalHighwayMiles,FinalData)\n",
    "FinalData=FinalMerge(AmtrakEnergyConsumption,FinalData)\n",
    "FinalData=FinalMerge(AmtrakDieselConsumption,FinalData)\n",
    "FinalData=FinalMerge(ForeignAirlineDepartures,FinalData)\n",
    "#combines all data frames into a FinalData data frame"
   ]
  },
  {
   "cell_type": "markdown",
   "metadata": {},
   "source": [
    "Make Final Adjustments for Plotting"
   ]
  },
  {
   "cell_type": "code",
   "execution_count": 17,
   "metadata": {},
   "outputs": [],
   "source": [
    "FinalData=FinalData.astype({'Year':int})\n",
    "FinalData['Total Highway Miles Traveled (in millions)']=FinalData['Total Highway Miles Traveled (in millions)'] * 100\n",
    "FinalData=FinalData.rename({'Total Highway Miles Traveled (in millions)':\n",
    "                           'Total Highway Miles Traveled (in tens of thousands)'},\n",
    "                          axis='columns')\n",
    "FinalData['Electric energy consumption (millions of kWhs)']=FinalData['Electric energy consumption (millions of kWhs)'] * 1000000\n",
    "FinalData=FinalData.rename({'Electric energy consumption (millions of kWhs)':'Electric energy consumption (kWhs)'},\n",
    "                          axis='columns')\n",
    "FinalData['Diesel consumption (millions of gallons)']=FinalData['Diesel consumption (millions of gallons)']*1000000*3\n",
    "FinalData=FinalData.rename({'Diesel consumption (millions of gallons)':'Diesel consumption (gallons*3)'},\n",
    "                          axis='columns')\n",
    "FinalData['Total Airline Departures to Foreign Countries']=FinalData['Total Airline Departures to Foreign Countries']*10000\n",
    "FinalData=FinalData.rename({'Total Airline Departures to Foreign Countries':'Airline Departures to Top 50 Foriegn Countries*10000'},\n",
    "                          axis='columns')"
   ]
  },
  {
   "cell_type": "markdown",
   "metadata": {},
   "source": [
    "Plotting"
   ]
  },
  {
   "cell_type": "code",
   "execution_count": 18,
   "metadata": {},
   "outputs": [],
   "source": [
    "def PlotFunction(ColumnToCompareToPopulation):\n",
    "    \"\"\"PlotFunction(str)\n",
    "    This function takes a column from the FinalData DataFrame and plots it against the 'Year' column, along with the\n",
    "    'Population' column being compared to the 'Year' column\n",
    "    \"\"\"\n",
    "    fig,ax=plt.subplots()\n",
    "    ax.plot(FinalData['Year'],FinalData['Population'],\n",
    "           label='Population')\n",
    "    ax.plot(FinalData['Year'],FinalData[ColumnToCompareToPopulation].fillna(method='ffill'),\n",
    "           label=ColumnToCompareToPopulation)\n",
    "    ax.legend(loc='best')\n",
    "    plt.show()"
   ]
  },
  {
   "cell_type": "code",
   "execution_count": 19,
   "metadata": {},
   "outputs": [
    {
     "data": {
      "image/png": "[encoded data removed]",
      "text/plain": [
       "<Figure size 432x288 with 1 Axes>"
      ]
     },
     "metadata": {
      "needs_background": "light"
     },
     "output_type": "display_data"
    }
   ],
   "source": [
    "PlotFunction('Total Highway Miles Traveled (in tens of thousands)')"
   ]
  },
  {
   "cell_type": "code",
   "execution_count": 20,
   "metadata": {},
   "outputs": [
    {
     "data": {
      "image/png": "[encoded data removed]",
      "text/plain": [
       "<Figure size 432x288 with 1 Axes>"
      ]
     },
     "metadata": {
      "needs_background": "light"
     },
     "output_type": "display_data"
    }
   ],
   "source": [
    "PlotFunction('Electric energy consumption (kWhs)')"
   ]
  },
  {
   "cell_type": "code",
   "execution_count": 21,
   "metadata": {},
   "outputs": [
    {
     "data": {
      "image/png": "[encoded data removed]",
      "text/plain": [
       "<Figure size 432x288 with 1 Axes>"
      ]
     },
     "metadata": {
      "needs_background": "light"
     },
     "output_type": "display_data"
    }
   ],
   "source": [
    "PlotFunction('Diesel consumption (gallons*3)')"
   ]
  },
  {
   "cell_type": "code",
   "execution_count": 22,
   "metadata": {},
   "outputs": [
    {
     "data": {
      "image/png": "[encoded data removed]",
      "text/plain": [
       "<Figure size 432x288 with 1 Axes>"
      ]
     },
     "metadata": {
      "needs_background": "light"
     },
     "output_type": "display_data"
    }
   ],
   "source": [
    "PlotFunction('Airline Departures to Top 50 Foriegn Countries*10000')"
   ]
  },
  {
   "cell_type": "markdown",
   "metadata": {},
   "source": [
    "Submission Code"
   ]
  },
  {
   "cell_type": "code",
   "execution_count": 23,
   "metadata": {},
   "outputs": [
    {
     "name": "stdout",
     "output_type": "stream",
     "text": [
      "Updating efb3f9d..5c2da70\n",
      "Fast-forward\n",
      " week08/feedback.md | 1 +\n",
      " 1 file changed, 1 insertion(+)\n",
      " create mode 100644 week08/feedback.md\n",
      "[main 67a9a42] Submitting the final\n",
      " 1 file changed, 21 insertions(+), 2 deletions(-)\n"
     ]
    },
    {
     "name": "stderr",
     "output_type": "stream",
     "text": [
      "From github.com:etl11/hds5210-2021\n",
      "   efb3f9d..5c2da70  main       -> origin/main\n",
      "fatal: pathspec 'final' did not match any files\n",
      "To github.com:etl11/hds5210-2021.git\n",
      "   5c2da70..67a9a42  main -> main\n"
     ]
    }
   ],
   "source": [
    "%%bash\n",
    "git pull\n",
    "git add final\n",
    "git commit -a -m \"Submitting the final\"\n",
    "git push"
   ]
  }
 ],
 "metadata": {
  "kernelspec": {
   "display_name": "Python 3",
   "language": "python",
   "name": "python3"
  },
  "language_info": {
   "codemirror_mode": {
    "name": "ipython",
    "version": 3
   },
   "file_extension": ".py",
   "mimetype": "text/x-python",
   "name": "python",
   "nbconvert_exporter": "python",
   "pygments_lexer": "ipython3",
   "version": "3.6.7"
  }
 },
 "nbformat": 4,
 "nbformat_minor": 4
}
